{
  "nbformat": 4,
  "nbformat_minor": 0,
  "metadata": {
    "colab": {
      "provenance": [],
      "authorship_tag": "ABX9TyONX93buZwBAXw7H3YLFaOV",
      "include_colab_link": true
    },
    "kernelspec": {
      "name": "python3",
      "display_name": "Python 3"
    },
    "language_info": {
      "name": "python"
    }
  },
  "cells": [
    {
      "cell_type": "markdown",
      "metadata": {
        "id": "view-in-github",
        "colab_type": "text"
      },
      "source": [
        "<a href=\"https://colab.research.google.com/github/aeshwin10/Basic-ML-Models/blob/main/BasicML.ipynb\" target=\"_parent\"><img src=\"https://colab.research.google.com/assets/colab-badge.svg\" alt=\"Open In Colab\"/></a>"
      ]
    },
    {
      "cell_type": "markdown",
      "source": [
        "Importing all the necessary libraries"
      ],
      "metadata": {
        "id": "PArGvvOBkYBU"
      }
    },
    {
      "cell_type": "code",
      "execution_count": 2,
      "metadata": {
        "id": "o-lMjbLMj84c"
      },
      "outputs": [],
      "source": [
        "import numpy as np\n",
        "import pandas as pd\n",
        "from sklearn.model_selection import train_test_split\n",
        "from sklearn.metrics import accuracy_score, precision_score, recall_score, f1_score\n",
        "from sklearn import datasets\n",
        "from sklearn import svm\n",
        "from sklearn.tree import DecisionTreeClassifier\n",
        "from sklearn.naive_bayes import GaussianNB"
      ]
    },
    {
      "cell_type": "markdown",
      "source": [
        "Loading the dataset and having different training and testing data."
      ],
      "metadata": {
        "id": "ISn3wcVBkWDc"
      }
    },
    {
      "cell_type": "code",
      "source": [
        "#import the iris dataset\n",
        "iris = datasets.load_iris()\n",
        "X = iris.data #input parameters\n",
        "y = iris.target #output parameter\n",
        "\n",
        "#Splitting X and y into training and testing sets\n",
        "X_train, X_test, y_train, y_test = train_test_split(X,y, test_size = 0.2, random_state = 1)"
      ],
      "metadata": {
        "id": "PsB_knfQkA0c"
      },
      "execution_count": 4,
      "outputs": []
    },
    {
      "cell_type": "code",
      "source": [
        "print(\"X_train shaape:\", X_train.shape)\n",
        "print(\"y_train shaape:\", y_train.shape)\n",
        "print(\"X_test shaape:\", X_test.shape)\n",
        "print(\"y_test shaape:\", y_test.shape)"
      ],
      "metadata": {
        "colab": {
          "base_uri": "https://localhost:8080/"
        },
        "id": "rkAYp0e3lsv8",
        "outputId": "98893525-976a-487e-ee34-3b98ce5fe92f"
      },
      "execution_count": 5,
      "outputs": [
        {
          "output_type": "stream",
          "name": "stdout",
          "text": [
            "X_train shaape: (120, 4)\n",
            "y_train shaape: (120,)\n",
            "X_test shaape: (30, 4)\n",
            "y_test shaape: (30,)\n"
          ]
        }
      ]
    },
    {
      "cell_type": "markdown",
      "source": [
        "First, we will use a Support Vector Machine"
      ],
      "metadata": {
        "id": "Z9FrNwl4nndU"
      }
    },
    {
      "cell_type": "code",
      "source": [
        "svm_clf = svm.SVC(kernel ='linear') #Lienar Kernal\n",
        "\n",
        "#train the model\n",
        "svm_clf.fit(X_train, y_train)\n",
        "#make predictions\n",
        "svm_clf_pred = svm_clf.predict(X_test)\n",
        "print(\"Obtained classifications results while testing:\", svm_clf_pred)\n",
        "print(\"Actual classification results:\" , y_test)\n",
        "\n",
        "\n"
      ],
      "metadata": {
        "colab": {
          "base_uri": "https://localhost:8080/"
        },
        "id": "idiXtMZJnxXD",
        "outputId": "e85b9aeb-1884-4452-9cd5-0fbaa8e213e0"
      },
      "execution_count": 7,
      "outputs": [
        {
          "output_type": "stream",
          "name": "stdout",
          "text": [
            "Obtained classifications results while testing: [0 1 1 0 2 1 2 0 0 2 1 0 2 1 1 0 1 1 0 0 1 1 1 0 2 1 0 0 1 2]\n",
            "Actual classification results: [0 1 1 0 2 1 2 0 0 2 1 0 2 1 1 0 1 1 0 0 1 1 1 0 2 1 0 0 1 2]\n"
          ]
        }
      ]
    },
    {
      "cell_type": "code",
      "source": [
        "#print the accuracy\n",
        "print(\"Accuracy of Support Vector Machine:\", accuracy_score(y_test, svm_clf_pred))\n",
        "\n",
        "#print other performance metrics\n",
        "print(\"Precision of Support Vector Machines:\", precision_score(y_test, svm_clf_pred, average='weighted'))\n",
        "\n",
        "print(\"Recall of Support Vector Machine:\", recall_score(y_test, svm_clf_pred, average ='weighted'))\n",
        "print(\"F1-Score of Support Vector Machine:\", f1_score(y_test, svm_clf_pred, average = 'weighted'))"
      ],
      "metadata": {
        "colab": {
          "base_uri": "https://localhost:8080/"
        },
        "id": "m4sAZvHvrITe",
        "outputId": "e8e4cd5a-a967-4dd6-eded-6d5aa7f3425e"
      },
      "execution_count": 8,
      "outputs": [
        {
          "output_type": "stream",
          "name": "stdout",
          "text": [
            "Accuracy of Support Vector Machine: 1.0\n",
            "Precision of Support Vector Machines: 1.0\n",
            "Recall of Support Vector Machine: 1.0\n",
            "F1-Score of Support Vector Machine: 1.0\n"
          ]
        }
      ]
    },
    {
      "cell_type": "markdown",
      "source": [
        "1.0 means 100% accuracy."
      ],
      "metadata": {
        "id": "g6RoV-byrOl3"
      }
    },
    {
      "cell_type": "markdown",
      "source": [
        "Now, we will use Decision Tree"
      ],
      "metadata": {
        "id": "mV6kdYzsruDs"
      }
    },
    {
      "cell_type": "code",
      "source": [
        "dt=DecisionTreeClassifier(random_state = 0)\n",
        "#train the model\n",
        "dt.fit(X_train, y_train)\n",
        "#make predictions\n",
        "dt_pred = dt.predict(X_test)\n",
        "#print the accuracy\n",
        "print(\"Accuracy of Decision Tree Classifier:\", accuracy_score(y_test, dt_pred))\n",
        "\n",
        "#print other performance metrics\n",
        "print(\"Precision of Decision Tree Classifier:\", precision_score(y_test, dt_pred, average =\"weighted\"))"
      ],
      "metadata": {
        "colab": {
          "base_uri": "https://localhost:8080/"
        },
        "id": "VZ4hue5rrtR9",
        "outputId": "1b8875de-45a6-4010-9c09-902a40e5141e"
      },
      "execution_count": 13,
      "outputs": [
        {
          "output_type": "stream",
          "name": "stdout",
          "text": [
            "Accuracy of Decision Tree Classifier: 0.9666666666666667\n",
            "Precision of Decision Tree Classifier: 0.9714285714285714\n"
          ]
        }
      ]
    },
    {
      "cell_type": "code",
      "source": [],
      "metadata": {
        "id": "PNONBGInr48y"
      },
      "execution_count": null,
      "outputs": []
    }
  ]
}